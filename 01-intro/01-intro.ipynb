{
 "cells": [
  {
   "cell_type": "code",
   "execution_count": 1,
   "id": "9b6dab42-c962-411d-9498-f56ecee0159f",
   "metadata": {},
   "outputs": [
    {
     "data": {
      "text/plain": [
       "True"
      ]
     },
     "execution_count": 1,
     "metadata": {},
     "output_type": "execute_result"
    }
   ],
   "source": [
    "import os\n",
    "from dotenv import load_dotenv\n",
    "\n",
    "load_dotenv()"
   ]
  },
  {
   "cell_type": "code",
   "execution_count": 2,
   "id": "92fd100f-c640-4385-971e-92d6617a4b85",
   "metadata": {},
   "outputs": [],
   "source": [
    "from openai import OpenAI"
   ]
  },
  {
   "cell_type": "code",
   "execution_count": 3,
   "id": "9f0ec865-c53e-404d-9d5a-7ccc7e8d3976",
   "metadata": {},
   "outputs": [],
   "source": [
    "client = OpenAI(api_key=os.environ.get('OPENAI_API_KEY'))"
   ]
  },
  {
   "cell_type": "code",
   "execution_count": 15,
   "id": "62f60af7-28ba-4253-965d-9066b390f0ab",
   "metadata": {},
   "outputs": [],
   "source": [
    "response = client.chat.completions.create(\n",
    "    model='gpt-4o-mini',\n",
    "    messages=[{\n",
    "        \"role\": \"user\",\n",
    "        \"content\": \"give me the roadmap of an ML/AI engineer by 2025 from beginner to hero\"\n",
    "    }]\n",
    ")"
   ]
  },
  {
   "cell_type": "code",
   "execution_count": 16,
   "id": "8cf3c7af-a5cf-43a7-8ca0-73b51f369cd1",
   "metadata": {},
   "outputs": [
    {
     "name": "stdout",
     "output_type": "stream",
     "text": [
      "Becoming an ML/AI engineer by 2025 requires a structured roadmap that evolves with the rapidly changing landscape of technology and industry. Here's a comprehensive roadmap to guide you from beginner to expert level.\n",
      "\n",
      "### Phase 1: Foundation Building (0-6 months)\n",
      "\n",
      "#### 1. **Mathematics and Statistics**\n",
      "   - Linear Algebra: Matrices, Vectors, Eigenvalues\n",
      "   - Calculus: Derivatives, Integrals, Optimization\n",
      "   - Probability and Statistics: Distributions, Bayes' Theorem, Hypothesis Testing\n",
      "\n",
      "#### 2. **Programming Skills**\n",
      "   - Learn Python: Focus on libraries like NumPy, Pandas, and Matplotlib.\n",
      "   - Version Control: Git and GitHub basics.\n",
      "\n",
      "#### 3. **Basic Data Handling**\n",
      "   - Data Wrangling: Cleaning and preparing data for analysis.\n",
      "   - Introduction to SQL: Basic queries and database operations.\n",
      "\n",
      "#### 4. **Introduction to Machine Learning**\n",
      "   - Understand the basics of Supervised vs. Unsupervised learning.\n",
      "   - Simple algorithms: Linear Regression, K-Nearest Neighbors, Decision Trees.\n",
      "\n",
      "#### **Recommended Resources:**\n",
      "   - Online courses (Coursera, edX, etc.)\n",
      "   - Books: \"Hands-On Machine Learning with Scikit-Learn, Keras, and TensorFlow\" by Aurélien Géron.\n",
      "\n",
      "### Phase 2: Intermediate Knowledge (6-12 months)\n",
      "\n",
      "#### 1. **Advanced Machine Learning Concepts**\n",
      "   - Ensemble Methods: Random Forests, Boosting.\n",
      "   - Evaluation Metrics: Precision, Recall, F1 Score, ROC AUC.\n",
      "\n",
      "#### 2. **Data Visualization**\n",
      "   - Learning tools like Matplotlib, Seaborn, and Plotly for visualizing data and insights.\n",
      "\n",
      "#### 3. **Machine Learning Frameworks**\n",
      "   - Get comfortable with Scikit-learn and TensorFlow or PyTorch.\n",
      "\n",
      "#### 4. **Real-world Projects**\n",
      "   - Work on small projects or Kaggle competitions to create a portfolio.\n",
      "   - Explore datasets and perform comprehensive analyses.\n",
      "\n",
      "### Phase 3: Specialization (1-2 years)\n",
      "\n",
      "#### 1. **Deep Learning**\n",
      "   - Learn about Neural Networks, Convolutional Networks, Recurrent Networks.\n",
      "   - Implement models using TensorFlow or PyTorch.\n",
      "\n",
      "#### 2. **Natural Language Processing (NLP)**\n",
      "   - Explore NLP techniques: Tokenization, Word Embeddings, Transformers (BERT, GPT).\n",
      "   - Projects: Text classification, sentiment analysis.\n",
      "\n",
      "#### 3. **Deploying Models**\n",
      "   - Explore options for deploying ML models (Flask, FastAPI, Docker).\n",
      "   - Basic knowledge of cloud platforms (AWS, Google Cloud, Azure).\n",
      "\n",
      "#### 4. **Advanced Topics**\n",
      "   - Reinforcement Learning, Generative Adversarial Networks (GANs), Explainable AI.\n",
      "\n",
      "#### 5. **Contributing to Open Source**\n",
      "   - Start contributing to ML/AI open-source projects to deepen understanding.\n",
      "\n",
      "### Phase 4: Expertise and Leadership (2-3 years)\n",
      "\n",
      "#### 1. **Advanced Projects and Research**\n",
      "   - Undertake complex projects, contribute to research papers or case studies.\n",
      "   - Specialize in a niche field (e.g., Computer Vision, Advanced NLP).\n",
      "\n",
      "#### 2. **Technical Communication**\n",
      "   - Develop skills for explaining concepts to non-technical audiences.\n",
      "   - Write technical blogs or create educational content.\n",
      "\n",
      "#### 3. **Networking**\n",
      "   - Attend conferences, workshops, and meetups. Connect with professionals on LinkedIn.\n",
      "   - Engage in the ML/AI community through forums and discussion groups.\n",
      "\n",
      "#### 4. **Soft Skills**\n",
      "   - Focus on teamwork, project management, and leadership skills.\n",
      "   - Cultivate problem-solving abilities and critical thinking.\n",
      "\n",
      "### Continuous Learning & Keeping Up-to-Date (Ongoing)\n",
      "\n",
      "- **Follow AI Trends:** Stay updated with the latest research papers, technological advancements, and tools in AI and ML.\n",
      "- **Engage with Communities:** Participate in forums (e.g., Reddit, Stack Overflow) and social media discussions.\n",
      "- **Advanced Courses:** Consider pursuing a Master’s degree or specialized certifications in AI/ML.\n",
      "- **Mentorship:** Seek mentorship from experienced professionals or become a mentor yourself to further solidify your knowledge.\n",
      "\n",
      "### Final Thoughts\n",
      "\n",
      "By following this roadmap and adapting to changes in the industry, you can transition from a beginner to a proficient ML/AI engineer by 2025. Ensure you foster a mindset of continuous learning and adaptability, as the field is constantly evolving.\n"
     ]
    }
   ],
   "source": [
    "print(response.choices[0].message.content)"
   ]
  },
  {
   "cell_type": "code",
   "execution_count": null,
   "id": "031ad4d5-9190-4260-b1f8-4ffc2d54c7ef",
   "metadata": {},
   "outputs": [],
   "source": []
  },
  {
   "cell_type": "markdown",
   "id": "4e4d8203-8e5d-449b-9cba-c86761f20941",
   "metadata": {},
   "source": [
    "**Generating Answer**"
   ]
  },
  {
   "cell_type": "code",
   "execution_count": 10,
   "id": "1fc0e82c-ea75-4475-9b5a-5e1ae90bda5f",
   "metadata": {},
   "outputs": [
    {
     "data": {
      "text/plain": [
       "{'text': \"The purpose of this document is to capture frequently asked technical questions\\nThe exact day and hour of the course will be 15th Jan 2024 at 17h00. The course will start with the first  “Office Hours'' live.1\\nSubscribe to course public Google Calendar (it works from Desktop only).\\nRegister before the course starts using this link.\\nJoin the course Telegram channel with announcements.\\nDon’t forget to register in DataTalks.Club's Slack and join the channel.\",\n",
       " 'section': 'General course-related questions',\n",
       " 'question': 'Course - When will the course start?',\n",
       " 'course': 'data-engineering-zoomcamp'}"
      ]
     },
     "execution_count": 10,
     "metadata": {},
     "output_type": "execute_result"
    }
   ],
   "source": [
    "import requests\n",
    "import minsearch\n",
    "\n",
    "docs_url = 'https://github.com/alexeygrigorev/llm-rag-workshop/raw/main/notebooks/documents.json'\n",
    "docs_response = requests.get(docs_url)\n",
    "documents_raw = docs_response.json()\n",
    "\n",
    "documents = []\n",
    "\n",
    "for course in documents_raw:\n",
    "    course_name = course['course']\n",
    "\n",
    "    for doc in course['documents']:\n",
    "        doc['course'] = course_name\n",
    "        documents.append(doc)\n",
    "\n",
    "documents[0]"
   ]
  },
  {
   "cell_type": "code",
   "execution_count": 12,
   "id": "b9a087af-6088-4521-b68b-53eae88f6d60",
   "metadata": {},
   "outputs": [
    {
     "data": {
      "text/plain": [
       "<minsearch.minsearch.Index at 0x7f331d156480>"
      ]
     },
     "execution_count": 12,
     "metadata": {},
     "output_type": "execute_result"
    }
   ],
   "source": [
    "index = minsearch.Index(\n",
    "    text_fields=[\"question\", \"text\", \"section\"],\n",
    "    keyword_fields=[\"course\"]\n",
    ")\n",
    "\n",
    "index.fit(documents)"
   ]
  },
  {
   "cell_type": "code",
   "execution_count": null,
   "id": "87739048-3779-4ba3-90cb-cfa913d4cdae",
   "metadata": {},
   "outputs": [],
   "source": []
  },
  {
   "cell_type": "code",
   "execution_count": 13,
   "id": "0f30ac59-6e17-4389-a759-1f2c6c4c3941",
   "metadata": {},
   "outputs": [],
   "source": [
    "q = 'the course has already started, can I still enroll?'"
   ]
  },
  {
   "cell_type": "code",
   "execution_count": 5,
   "id": "e768ad53-46a4-4d1c-b767-ce7215d9844b",
   "metadata": {},
   "outputs": [],
   "source": [
    "response = client.chat.completions.create(\n",
    "    model='gpt-4o-mini',\n",
    "    messages=[{\n",
    "        \"role\": \"user\",\n",
    "        \"content\": q\n",
    "    }]\n",
    ")"
   ]
  },
  {
   "cell_type": "code",
   "execution_count": 6,
   "id": "13777e18-d2ed-4a0a-b705-5ac13f977564",
   "metadata": {},
   "outputs": [
    {
     "name": "stdout",
     "output_type": "stream",
     "text": [
      "Whether you can still enroll in a course that has already started depends on the institution's policies and the specific course. Many colleges and universities have deadlines for enrollment, but some may allow late registration under certain circumstances. It's best to contact the admissions office or the course instructor directly to inquire about your options. They will provide you with the most accurate and relevant information.\n"
     ]
    }
   ],
   "source": [
    "print(response.choices[0].message.content)"
   ]
  },
  {
   "cell_type": "code",
   "execution_count": 19,
   "id": "53205447-2943-48ae-a328-4d67c5a51256",
   "metadata": {},
   "outputs": [],
   "source": [
    "def llm(prompt):\n",
    "    response = client.chat.completions.create(\n",
    "        model='gpt-4o-mini',\n",
    "        messages=[{\"role\": \"user\", \"content\": prompt}]\n",
    "    )\n",
    "    \n",
    "    return response.choices[0].message.content\n",
    "\n",
    "\n",
    "def search(query):\n",
    "    boost = {'question': 3.0, 'section': 0.5}\n",
    "\n",
    "    results = index.search(\n",
    "        query=query,\n",
    "        filter_dict={'course': 'data-engineering-zoomcamp'},\n",
    "        boost_dict=boost,\n",
    "        num_results=5\n",
    "    )\n",
    "\n",
    "    return results\n",
    "\n",
    "\n",
    "def build_prompt(query, search_results):\n",
    "    prompt_template = \"\"\"\n",
    "You're a course teaching assistant. Answer the QUESTION based on the CONTEXT from the FAQ database.\n",
    "Use only the facts from the CONTEXT when answering the QUESTION.\n",
    "\n",
    "QUESTION: {question}\n",
    "\n",
    "CONTEXT: \n",
    "{context}\n",
    "\"\"\".strip()\n",
    "\n",
    "    context = \"\"\n",
    "    \n",
    "    for doc in search_results:\n",
    "        context = context + f\"section: {doc['section']}\\nquestion: {doc['question']}\\nanswer: {doc['text']}\\n\\n\"\n",
    "    \n",
    "    prompt = prompt_template.format(question=query, context=context).strip()\n",
    "    return prompt\n",
    "\n",
    "\n",
    "def rag(query):\n",
    "    search_results = search(query)\n",
    "    prompt = build_prompt(query, search_results)\n",
    "    answer = llm(prompt)\n",
    "    return answer"
   ]
  },
  {
   "cell_type": "code",
   "execution_count": 21,
   "id": "a400a011-97cc-4b02-ba7b-e9479e5b8945",
   "metadata": {},
   "outputs": [
    {
     "name": "stdout",
     "output_type": "stream",
     "text": [
      "Yes, you can still enroll in the course after the start date. Even if you don't register, you're still eligible to submit the homework. However, keep in mind that there will be deadlines for turning in the final projects, so it's best not to leave everything until the last minute.\n"
     ]
    }
   ],
   "source": [
    "response = rag(q)\n",
    "\n",
    "print(response)"
   ]
  },
  {
   "cell_type": "code",
   "execution_count": 22,
   "id": "12b165ca-04f3-4cfd-8093-5bdbe4365ca6",
   "metadata": {},
   "outputs": [
    {
     "name": "stdout",
     "output_type": "stream",
     "text": [
      "To run Kafka, you can execute the following command in the terminal from your project directory:\n",
      "\n",
      "```bash\n",
      "java -cp build/libs/<jar_name>-1.0-SNAPSHOT.jar:out src/main/java/org/example/JsonProducer.java\n",
      "```\n",
      "\n",
      "Make sure to replace `<jar_name>` with the actual name of your jar file.\n"
     ]
    }
   ],
   "source": [
    "q = 'how do I run kafka?'\n",
    "response = rag(q)\n",
    "\n",
    "print(response)"
   ]
  },
  {
   "cell_type": "code",
   "execution_count": null,
   "id": "8936b750-5480-4465-90e3-827d3354147e",
   "metadata": {},
   "outputs": [],
   "source": []
  }
 ],
 "metadata": {
  "kernelspec": {
   "display_name": "Python 3 (ipykernel)",
   "language": "python",
   "name": "python3"
  },
  "language_info": {
   "codemirror_mode": {
    "name": "ipython",
    "version": 3
   },
   "file_extension": ".py",
   "mimetype": "text/x-python",
   "name": "python",
   "nbconvert_exporter": "python",
   "pygments_lexer": "ipython3",
   "version": "3.12.1"
  }
 },
 "nbformat": 4,
 "nbformat_minor": 5
}
