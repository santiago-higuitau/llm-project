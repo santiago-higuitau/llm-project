{
 "cells": [
  {
   "cell_type": "markdown",
   "id": "9d0047cf-97f9-42e7-ad36-baffd67b7c28",
   "metadata": {},
   "source": [
    "### **Q1. Running Elastic**"
   ]
  },
  {
   "cell_type": "code",
   "execution_count": 1,
   "id": "769a9d10-12d9-491c-9669-a178e2a7830a",
   "metadata": {},
   "outputs": [
    {
     "name": "stdout",
     "output_type": "stream",
     "text": [
      "Build hash: 42f05b9372a9a4a470db3b52817899b99a76ee73\n"
     ]
    }
   ],
   "source": [
    "from elasticsearch import Elasticsearch\n",
    "\n",
    "es_client = Elasticsearch('http://localhost:9200')\n",
    "\n",
    "info = es_client.info()\n",
    "\n",
    "print(f\"Build hash: {info['version']['build_hash']}\")"
   ]
  },
  {
   "cell_type": "markdown",
   "id": "6c2189a2-f3d9-4c69-b029-b27313d18367",
   "metadata": {},
   "source": [
    "**Getting the data**"
   ]
  },
  {
   "cell_type": "code",
   "execution_count": 2,
   "id": "4090612e-a629-4875-be9d-7d0574f7f4ba",
   "metadata": {},
   "outputs": [],
   "source": [
    "import requests \n",
    "\n",
    "docs_url = 'https://github.com/DataTalksClub/llm-zoomcamp/blob/main/01-intro/documents.json?raw=1'\n",
    "docs_response = requests.get(docs_url)\n",
    "documents_raw = docs_response.json()\n",
    "\n",
    "documents = []\n",
    "\n",
    "for course in documents_raw:\n",
    "    course_name = course['course']\n",
    "\n",
    "    for doc in course['documents']:\n",
    "        doc['course'] = course_name\n",
    "        documents.append(doc)"
   ]
  },
  {
   "cell_type": "markdown",
   "id": "c07be4d7-2c01-478c-991c-6726fa080c25",
   "metadata": {},
   "source": [
    "### **Q2. Indexing the data**"
   ]
  },
  {
   "cell_type": "code",
   "execution_count": 3,
   "id": "ea6c6812-9db6-4e95-9ecf-c3f211d3a9f3",
   "metadata": {},
   "outputs": [],
   "source": [
    "from tqdm.auto import tqdm"
   ]
  },
  {
   "cell_type": "code",
   "execution_count": 5,
   "id": "2f97d52c-71d9-4cc8-8ccb-075fcd256dcd",
   "metadata": {},
   "outputs": [
    {
     "data": {
      "text/plain": [
       "ObjectApiResponse({'acknowledged': True, 'shards_acknowledged': True, 'index': 'homework-week-01'})"
      ]
     },
     "execution_count": 5,
     "metadata": {},
     "output_type": "execute_result"
    }
   ],
   "source": [
    "index_settings = {\n",
    "    \"settings\": {\n",
    "        \"number_of_shards\": 1,\n",
    "        \"number_of_replicas\": 0\n",
    "    },\n",
    "    \"mappings\": {\n",
    "        \"properties\": {\n",
    "            \"text\": {\"type\": \"text\"},\n",
    "            \"section\": {\"type\": \"text\"},\n",
    "            \"question\": {\"type\": \"text\"},\n",
    "            \"course\": {\"type\": \"keyword\"} \n",
    "        }\n",
    "    }\n",
    "}\n",
    "\n",
    "index_name = \"homework-week-01\"\n",
    "es_client.indices.create(index=index_name, body=index_settings)"
   ]
  },
  {
   "cell_type": "code",
   "execution_count": 6,
   "id": "558d359f-56c4-44f2-bc5b-6dce83d656e9",
   "metadata": {},
   "outputs": [
    {
     "data": {
      "application/vnd.jupyter.widget-view+json": {
       "model_id": "cb6a59f4cc93494fa4d9a88b1973294d",
       "version_major": 2,
       "version_minor": 0
      },
      "text/plain": [
       "  0%|          | 0/948 [00:00<?, ?it/s]"
      ]
     },
     "metadata": {},
     "output_type": "display_data"
    }
   ],
   "source": [
    "for doc in tqdm(documents):\n",
    "    es_client.index(index=index_name, document=doc)"
   ]
  },
  {
   "cell_type": "markdown",
   "id": "cb3214ed-1c8b-49b0-adca-18ffede49b41",
   "metadata": {},
   "source": [
    "### Question 3. Searching"
   ]
  },
  {
   "cell_type": "code",
   "execution_count": 7,
   "id": "70d5b469-0f5d-4823-986f-5377d7b825b7",
   "metadata": {},
   "outputs": [],
   "source": [
    "query = \"How do execute a command on a Kubernetes pod?\"\n",
    "\n",
    "search_query = {\n",
    "    \"size\": 5,\n",
    "    \"query\": {\n",
    "        \"bool\": {\n",
    "            \"must\": {\n",
    "                \"multi_match\": {\n",
    "                    \"query\": query,\n",
    "                    \"fields\": [\"question^4\", \"text\"],\n",
    "                    \"type\": \"best_fields\"\n",
    "                }\n",
    "            }\n",
    "        }\n",
    "    }\n",
    "}\n",
    "\n",
    "response = es_client.search(index=index_name, body=search_query)"
   ]
  },
  {
   "cell_type": "code",
   "execution_count": 13,
   "id": "b5c6b607-9514-4b59-8a42-a1e97b4026d7",
   "metadata": {},
   "outputs": [
    {
     "name": "stdout",
     "output_type": "stream",
     "text": [
      "Top ranking result: 44.50556\n"
     ]
    }
   ],
   "source": [
    "top_score = response['hits']['hits'][0]['_score']\n",
    "print(f'Top ranking result: {top_score}')"
   ]
  },
  {
   "cell_type": "markdown",
   "id": "f08f046e-375a-47c4-8cfd-ec4ab2e5f1c8",
   "metadata": {},
   "source": [
    "### **Q4. Filtering**"
   ]
  },
  {
   "cell_type": "code",
   "execution_count": 19,
   "id": "693c6afe-1171-49b8-8ca9-6e7b834abf18",
   "metadata": {},
   "outputs": [],
   "source": [
    "import json"
   ]
  },
  {
   "cell_type": "code",
   "execution_count": 16,
   "id": "69b123f9-56c3-40b9-9737-77064371be7a",
   "metadata": {},
   "outputs": [],
   "source": [
    "def retrieve_context(query, k, filters={}):\n",
    "    search_query = {\n",
    "        \"size\": k,\n",
    "        \"query\": {\n",
    "            \"bool\": {\n",
    "                \"must\": {\n",
    "                    \"multi_match\": {\n",
    "                        \"query\": query,\n",
    "                        \"fields\": [\"question^4\", \"text\"],\n",
    "                        \"type\": \"best_fields\"\n",
    "                    }\n",
    "                },\n",
    "                \"filter\": {\n",
    "                    \"term\": filters\n",
    "                }\n",
    "            }\n",
    "        }\n",
    "    }\n",
    "\n",
    "    response = es_client.search(index=index_name, body=search_query)\n",
    "\n",
    "    result_docs = []\n",
    "    \n",
    "    for hit in response['hits']['hits']:\n",
    "        result_docs.append(hit['_source'])\n",
    "\n",
    "    return result_docs"
   ]
  },
  {
   "cell_type": "code",
   "execution_count": 17,
   "id": "937333d9-f5e9-475e-a6d0-687e57b24146",
   "metadata": {},
   "outputs": [],
   "source": [
    "filters = {\n",
    "    \"course\": \"machine-learning-zoomcamp\"\n",
    "}\n",
    "\n",
    "query = \"How do copy a file to a Docker container?\""
   ]
  },
  {
   "cell_type": "code",
   "execution_count": 20,
   "id": "fc133377-0e81-478f-8321-deb20aa62a47",
   "metadata": {},
   "outputs": [
    {
     "name": "stdout",
     "output_type": "stream",
     "text": [
      "[\n",
      "    {\n",
      "        \"text\": \"Launch the container image in interactive mode and overriding the entrypoint, so that it starts a bash command.\\ndocker run -it --entrypoint bash <image>\\nIf the container is already running, execute a command in the specific container:\\ndocker ps (find the container-id)\\ndocker exec -it <container-id> bash\\n(Marcos MJD)\",\n",
      "        \"section\": \"5. Deploying Machine Learning Models\",\n",
      "        \"question\": \"How do I debug a docker container?\",\n",
      "        \"course\": \"machine-learning-zoomcamp\"\n",
      "    },\n",
      "    {\n",
      "        \"text\": \"You can copy files from your local machine into a Docker container using the docker cp command. Here's how to do it:\\nTo copy a file or directory from your local machine into a running Docker container, you can use the `docker cp command`. The basic syntax is as follows:\\ndocker cp /path/to/local/file_or_directory container_id:/path/in/container\\nHrithik Kumar Advani\",\n",
      "        \"section\": \"5. Deploying Machine Learning Models\",\n",
      "        \"question\": \"How do I copy files from my local machine to docker container?\",\n",
      "        \"course\": \"machine-learning-zoomcamp\"\n",
      "    },\n",
      "    {\n",
      "        \"text\": \"You can copy files from your local machine into a Docker container using the docker cp command. Here's how to do it:\\nIn the Dockerfile, you can provide the folder containing the files that you want to copy over. The basic syntax is as follows:\\nCOPY [\\\"src/predict.py\\\", \\\"models/xgb_model.bin\\\", \\\"./\\\"]\\t\\t\\t\\t\\t\\t\\t\\t\\t\\t\\tGopakumar Gopinathan\",\n",
      "        \"section\": \"5. Deploying Machine Learning Models\",\n",
      "        \"question\": \"How do I copy files from a different folder into docker container’s working directory?\",\n",
      "        \"course\": \"machine-learning-zoomcamp\"\n",
      "    }\n",
      "]\n"
     ]
    }
   ],
   "source": [
    "relevant_docs = retrieve_context(query, 3, filters)\n",
    "\n",
    "print(json.dumps(relevant_docs, indent=4, ensure_ascii=False))"
   ]
  },
  {
   "cell_type": "code",
   "execution_count": 23,
   "id": "b889612c-8a5e-450c-a1b4-600fac439803",
   "metadata": {},
   "outputs": [
    {
     "data": {
      "text/plain": [
       "'How do I copy files from a different folder into docker container’s working directory?'"
      ]
     },
     "execution_count": 23,
     "metadata": {},
     "output_type": "execute_result"
    }
   ],
   "source": [
    "relevant_docs[-1].get('question')"
   ]
  },
  {
   "cell_type": "markdown",
   "id": "faa1b509-1fb4-4d6e-bd7c-88a04867155e",
   "metadata": {},
   "source": [
    "### **Q5. Building a prompt**"
   ]
  },
  {
   "cell_type": "code",
   "execution_count": 40,
   "id": "baca6554-3301-4b3d-a5d9-c376126e05f5",
   "metadata": {},
   "outputs": [
    {
     "name": "stdout",
     "output_type": "stream",
     "text": [
      "Length of the resulting prompt 1446\n"
     ]
    }
   ],
   "source": [
    "context_template = \"Q: {question}\\nA: {text}\"\n",
    "prompt_template = \"\"\"\n",
    "You're a course teaching assistant. Answer the QUESTION based on the CONTEXT from the FAQ database.\n",
    "Use only the facts from the CONTEXT when answering the QUESTION.\n",
    "\n",
    "QUESTION: {question}\n",
    "\n",
    "CONTEXT:\n",
    "{context}\n",
    "\"\"\".strip()\n",
    "\n",
    "context = \"\\n\\n\".join([\n",
    "    context_template.format(question=r[\"question\"], text=r[\"text\"]) for r in relevant_docs\n",
    "])\n",
    "\n",
    "prompt = prompt_template.format(question=query, context=context)\n",
    "\n",
    "print(f'Length of the resulting prompt {len(prompt)}')"
   ]
  },
  {
   "cell_type": "code",
   "execution_count": 41,
   "id": "c4fdec02-01d9-42f1-aa5d-d3cfe5b19904",
   "metadata": {},
   "outputs": [
    {
     "name": "stdout",
     "output_type": "stream",
     "text": [
      "You're a course teaching assistant. Answer the QUESTION based on the CONTEXT from the FAQ database.\n",
      "Use only the facts from the CONTEXT when answering the QUESTION.\n",
      "\n",
      "QUESTION: How do copy a file to a Docker container?\n",
      "\n",
      "CONTEXT:\n",
      "Q: How do I debug a docker container?\n",
      "A: Launch the container image in interactive mode and overriding the entrypoint, so that it starts a bash command.\n",
      "docker run -it --entrypoint bash <image>\n",
      "If the container is already running, execute a command in the specific container:\n",
      "docker ps (find the container-id)\n",
      "docker exec -it <container-id> bash\n",
      "(Marcos MJD)\n",
      "\n",
      "Q: How do I copy files from my local machine to docker container?\n",
      "A: You can copy files from your local machine into a Docker container using the docker cp command. Here's how to do it:\n",
      "To copy a file or directory from your local machine into a running Docker container, you can use the `docker cp command`. The basic syntax is as follows:\n",
      "docker cp /path/to/local/file_or_directory container_id:/path/in/container\n",
      "Hrithik Kumar Advani\n",
      "\n",
      "Q: How do I copy files from a different folder into docker container’s working directory?\n",
      "A: You can copy files from your local machine into a Docker container using the docker cp command. Here's how to do it:\n",
      "In the Dockerfile, you can provide the folder containing the files that you want to copy over. The basic syntax is as follows:\n",
      "COPY [\"src/predict.py\", \"models/xgb_model.bin\", \"./\"]\t\t\t\t\t\t\t\t\t\t\tGopakumar Gopinathan\n"
     ]
    }
   ],
   "source": [
    "print(prompt)"
   ]
  },
  {
   "cell_type": "markdown",
   "id": "9f1f2e09-60c6-4167-a649-84edec38c188",
   "metadata": {},
   "source": [
    "### Q6. Tokens"
   ]
  },
  {
   "cell_type": "code",
   "execution_count": 42,
   "id": "195005de-3094-42ce-98c1-4101a23cb5fc",
   "metadata": {},
   "outputs": [],
   "source": [
    "import tiktoken"
   ]
  },
  {
   "cell_type": "code",
   "execution_count": 43,
   "id": "63410dfb-a35c-418b-811c-ef7ba2ed7415",
   "metadata": {},
   "outputs": [],
   "source": [
    "encoding = tiktoken.encoding_for_model(\"gpt-4o\")"
   ]
  },
  {
   "cell_type": "code",
   "execution_count": 44,
   "id": "166095f9-786a-4648-9b77-c200c65f49fe",
   "metadata": {},
   "outputs": [
    {
     "name": "stdout",
     "output_type": "stream",
     "text": [
      "Tokens Number: 320\n"
     ]
    }
   ],
   "source": [
    "tokens = encoding.encode(prompt)\n",
    "\n",
    "print(\"Tokens Number:\", len(tokens))"
   ]
  },
  {
   "cell_type": "code",
   "execution_count": 53,
   "id": "ccca4d93-3c7d-4769-ac0d-3c7d91909ae8",
   "metadata": {},
   "outputs": [
    {
     "name": "stdout",
     "output_type": "stream",
     "text": [
      "Bytes: b\"You're\"\n",
      "String: You're\n"
     ]
    }
   ],
   "source": [
    "token = tokens[0]\n",
    "\n",
    "decoded_bytes = encoding.decode_single_token_bytes(token)\n",
    "print(\"Bytes:\", decoded_bytes)\n",
    "print(\"String:\", decoded_bytes.decode(\"utf-8\"))"
   ]
  },
  {
   "cell_type": "markdown",
   "id": "878986bf-aa09-4395-8e79-bbf593de14c2",
   "metadata": {},
   "source": [
    "### **Bonus: generating the answer**"
   ]
  },
  {
   "cell_type": "code",
   "execution_count": 57,
   "id": "d61614eb-8dfc-4fe6-8f37-a9a6158997f9",
   "metadata": {},
   "outputs": [
    {
     "data": {
      "text/plain": [
       "True"
      ]
     },
     "execution_count": 57,
     "metadata": {},
     "output_type": "execute_result"
    }
   ],
   "source": [
    "import os\n",
    "from dotenv import load_dotenv\n",
    "\n",
    "load_dotenv()"
   ]
  },
  {
   "cell_type": "code",
   "execution_count": 58,
   "id": "adf3d838-294e-4068-a499-f6d954320e6e",
   "metadata": {},
   "outputs": [],
   "source": [
    "from openai import OpenAI\n",
    "\n",
    "client = OpenAI(api_key=os.environ.get('OPENAI_API_KEY'))"
   ]
  },
  {
   "cell_type": "code",
   "execution_count": 64,
   "id": "e5804318-9477-4031-9074-f88e5f714954",
   "metadata": {},
   "outputs": [],
   "source": [
    "def llm(prompt):\n",
    "    response = client.chat.completions.create(\n",
    "        model='gpt-4o-mini',\n",
    "        messages=[{\"role\": \"user\", \"content\": prompt}]\n",
    "    )\n",
    "    \n",
    "    return response.choices[0].message.content"
   ]
  },
  {
   "cell_type": "code",
   "execution_count": 65,
   "id": "c3e3fff4-6f13-495d-a18d-a4bf797aeca3",
   "metadata": {},
   "outputs": [
    {
     "name": "stdout",
     "output_type": "stream",
     "text": [
      "To copy a file from your local machine to a Docker container, you can use the `docker cp` command. The basic syntax is as follows:\n",
      "\n",
      "```\n",
      "docker cp /path/to/local/file_or_directory container_id:/path/in/container\n",
      "```\n"
     ]
    }
   ],
   "source": [
    "llm_response = llm(prompt)\n",
    "\n",
    "print(llm_response)"
   ]
  },
  {
   "cell_type": "code",
   "execution_count": 66,
   "id": "6c185a90-6e15-49ab-8f40-002ff29fa125",
   "metadata": {},
   "outputs": [
    {
     "name": "stdout",
     "output_type": "stream",
     "text": [
      "Tokens Number: 49\n"
     ]
    }
   ],
   "source": [
    "output_tokens = encoding.encode(llm_response)\n",
    "\n",
    "print(\"Tokens Number:\", len(output_tokens))"
   ]
  },
  {
   "cell_type": "markdown",
   "id": "3d95ea26-ffe0-4f6f-b475-51ece33bf235",
   "metadata": {},
   "source": [
    "### **Bonus: calculating the costs**"
   ]
  },
  {
   "cell_type": "markdown",
   "id": "6ae3f122-0f5c-47c1-b255-44ffada5a26f",
   "metadata": {},
   "source": [
    "For 1000 requests:\n",
    "\n",
    "- Total input tokens = 150 tokens/request * 1000 requests = 150,000 tokens.\n",
    "- Total output tokens = 250 tokens/request * 1000 requests = 250.000 tokens\n",
    "\n",
    "Input Cost:\n",
    "\n",
    "- 150,000 tokens * ($0.005 / 1000) = 0.75 USD\n",
    "\n",
    "Output Cost:\n",
    "\n",
    "- 250,000 tokens * ($0.015 / 1000) = 3.75 USD\n",
    "\n",
    "Total Output:\n",
    "- 0.75 (input) + 3.75 (output) = **4.50 USD**"
   ]
  },
  {
   "cell_type": "markdown",
   "id": "b445cbff-9f51-4ebb-99d3-3a2fc88e8091",
   "metadata": {},
   "source": [
    "For execution:\n",
    "\n",
    "Input Cost:\n",
    "\n",
    "- 320 tokens * ($0.005 / 1000) = 0.0016 USD\n",
    "\n",
    "Output Cost:\n",
    "\n",
    "- 49 tokens * ($0.015 / 1000) = 0.000735 USD\n",
    "\n",
    "Total Output:\n",
    "- 0.0016 (input) + 0.000735 (output) = **0.002335 USD**"
   ]
  },
  {
   "cell_type": "code",
   "execution_count": null,
   "id": "f844b92e-e735-4d83-a52d-2dde5743a8ac",
   "metadata": {},
   "outputs": [],
   "source": []
  }
 ],
 "metadata": {
  "kernelspec": {
   "display_name": "Python 3 (ipykernel)",
   "language": "python",
   "name": "python3"
  },
  "language_info": {
   "codemirror_mode": {
    "name": "ipython",
    "version": 3
   },
   "file_extension": ".py",
   "mimetype": "text/x-python",
   "name": "python",
   "nbconvert_exporter": "python",
   "pygments_lexer": "ipython3",
   "version": "3.12.1"
  }
 },
 "nbformat": 4,
 "nbformat_minor": 5
}
